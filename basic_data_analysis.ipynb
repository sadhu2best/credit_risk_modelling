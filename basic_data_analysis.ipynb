{
  "nbformat": 4,
  "nbformat_minor": 0,
  "metadata": {
    "kernelspec": {
      "display_name": "Python 2",
      "language": "python",
      "name": "python2"
    },
    "language_info": {
      "codemirror_mode": {
        "name": "ipython",
        "version": 3
      },
      "file_extension": ".py",
      "mimetype": "text/x-python",
      "name": "python",
      "nbconvert_exporter": "python",
      "pygments_lexer": "ipython3",
      "version": "3.5.2"
    },
    "colab": {
      "name": "basic_data_analysis.ipynb",
      "provenance": [],
      "include_colab_link": true
    }
  },
  "cells": [
    {
      "cell_type": "markdown",
      "metadata": {
        "id": "view-in-github",
        "colab_type": "text"
      },
      "source": [
        "<a href=\"https://colab.research.google.com/github/sadhu2best/credit_risk_modelling/blob/master/basic_data_analysis.ipynb\" target=\"_parent\"><img src=\"https://colab.research.google.com/assets/colab-badge.svg\" alt=\"Open In Colab\"/></a>"
      ]
    },
    {
      "cell_type": "markdown",
      "metadata": {
        "id": "PHHx-svApD6N",
        "colab_type": "text"
      },
      "source": [
        "### Basic data analysis or exploratory data analysis (EDA)"
      ]
    },
    {
      "cell_type": "code",
      "metadata": {
        "id": "uBVGCJg8pD6O",
        "colab_type": "code",
        "colab": {}
      },
      "source": [
        "from __future__ import print_function\n",
        "import pandas as pd\n",
        "import numpy as np\n",
        "import seaborn as sns\n",
        "import matplotlib.pyplot as plt\n",
        "%matplotlib inline\n",
        "\n"
      ],
      "execution_count": 21,
      "outputs": []
    },
    {
      "cell_type": "code",
      "metadata": {
        "colab_type": "code",
        "id": "RWSJpsyKqHjH",
        "colab": {
          "base_uri": "https://localhost:8080/",
          "height": 35
        },
        "outputId": "62ebb1a3-5f01-415e-b1fd-d2917cd18fa6"
      },
      "source": [
        "from google.colab import drive\n",
        "drive.mount('/content/drive')"
      ],
      "execution_count": 26,
      "outputs": [
        {
          "output_type": "stream",
          "text": [
            "Mounted at /content/drive\n"
          ],
          "name": "stdout"
        }
      ]
    },
    {
      "cell_type": "code",
      "metadata": {
        "colab_type": "code",
        "id": "XDg9OBaYqRMd",
        "colab": {
          "base_uri": "https://localhost:8080/",
          "height": 35
        },
        "outputId": "180415e4-ed88-4ecf-f0e7-6537cd0874f6"
      },
      "source": [
        "with open('/content/drive/My Drive/foo.txt', 'w') as f:\n",
        "  f.write('Hello Google Drive!')\n",
        "!cat /content/drive/My\\ Drive/foo.txt"
      ],
      "execution_count": 27,
      "outputs": [
        {
          "output_type": "stream",
          "text": [
            "Hello Google Drive!"
          ],
          "name": "stdout"
        }
      ]
    },
    {
      "cell_type": "code",
      "metadata": {
        "colab_type": "code",
        "id": "D78AM1fFt2ty",
        "colab": {
          "base_uri": "https://localhost:8080/",
          "height": 35
        },
        "outputId": "7093bc92-b2d7-421e-d396-14dfc3ef0fe1"
      },
      "source": [
        "drive.flush_and_unmount()\n",
        "print('All changes made in this colab session should now be visible in Drive.')"
      ],
      "execution_count": 24,
      "outputs": [
        {
          "output_type": "stream",
          "text": [
            "All changes made in this colab session should now be visible in Drive.\n"
          ],
          "name": "stdout"
        }
      ]
    },
    {
      "cell_type": "code",
      "metadata": {
        "id": "Yj6JqOlYpD6T",
        "colab_type": "code",
        "colab": {}
      },
      "source": [
        "# Read Training dataset as well as drop the index column\n",
        "training_data = pd.read_csv('/content/drive/My Drive/data/cs-training.csv').drop('Unnamed: 0', axis = 1)\n",
        "#!cat /content/drive/My\\ Drive/data/cs-training.csv\n",
        "\n",
        "\n",
        "# For each column heading we replace \"-\" and convert the heading in lowercase \n",
        "cleancolumn = []\n",
        "for i in range(len(training_data.columns)):\n",
        "    cleancolumn.append(training_data.columns[i].replace('-', '').lower())\n",
        "training_data.columns = cleancolumn"
      ],
      "execution_count": 29,
      "outputs": []
    },
    {
      "cell_type": "code",
      "metadata": {
        "id": "07t_Lv5vpD6W",
        "colab_type": "code",
        "colab": {
          "base_uri": "https://localhost:8080/",
          "height": 220
        },
        "outputId": "3ca64bea-7ed6-4f36-cc95-4cd98ff3a954"
      },
      "source": [
        "# print the 5 records of the traiing dataset\n",
        "training_data.head()"
      ],
      "execution_count": 30,
      "outputs": [
        {
          "output_type": "execute_result",
          "data": {
            "text/plain": [
              "   seriousdlqin2yrs  revolvingutilizationofunsecuredlines  age  \\\n",
              "0                 1                              0.766127   45   \n",
              "1                 0                              0.957151   40   \n",
              "2                 0                              0.658180   38   \n",
              "3                 0                              0.233810   30   \n",
              "4                 0                              0.907239   49   \n",
              "\n",
              "   numberoftime3059dayspastduenotworse  debtratio  monthlyincome  \\\n",
              "0                                    2   0.802982         9120.0   \n",
              "1                                    0   0.121876         2600.0   \n",
              "2                                    1   0.085113         3042.0   \n",
              "3                                    0   0.036050         3300.0   \n",
              "4                                    1   0.024926        63588.0   \n",
              "\n",
              "   numberofopencreditlinesandloans  numberoftimes90dayslate  \\\n",
              "0                               13                        0   \n",
              "1                                4                        0   \n",
              "2                                2                        1   \n",
              "3                                5                        0   \n",
              "4                                7                        0   \n",
              "\n",
              "   numberrealestateloansorlines  numberoftime6089dayspastduenotworse  \\\n",
              "0                             6                                    0   \n",
              "1                             0                                    0   \n",
              "2                             0                                    0   \n",
              "3                             0                                    0   \n",
              "4                             1                                    0   \n",
              "\n",
              "   numberofdependents  \n",
              "0                 2.0  \n",
              "1                 1.0  \n",
              "2                 0.0  \n",
              "3                 0.0  \n",
              "4                 0.0  "
            ],
            "text/html": [
              "<div>\n",
              "<style scoped>\n",
              "    .dataframe tbody tr th:only-of-type {\n",
              "        vertical-align: middle;\n",
              "    }\n",
              "\n",
              "    .dataframe tbody tr th {\n",
              "        vertical-align: top;\n",
              "    }\n",
              "\n",
              "    .dataframe thead th {\n",
              "        text-align: right;\n",
              "    }\n",
              "</style>\n",
              "<table border=\"1\" class=\"dataframe\">\n",
              "  <thead>\n",
              "    <tr style=\"text-align: right;\">\n",
              "      <th></th>\n",
              "      <th>seriousdlqin2yrs</th>\n",
              "      <th>revolvingutilizationofunsecuredlines</th>\n",
              "      <th>age</th>\n",
              "      <th>numberoftime3059dayspastduenotworse</th>\n",
              "      <th>debtratio</th>\n",
              "      <th>monthlyincome</th>\n",
              "      <th>numberofopencreditlinesandloans</th>\n",
              "      <th>numberoftimes90dayslate</th>\n",
              "      <th>numberrealestateloansorlines</th>\n",
              "      <th>numberoftime6089dayspastduenotworse</th>\n",
              "      <th>numberofdependents</th>\n",
              "    </tr>\n",
              "  </thead>\n",
              "  <tbody>\n",
              "    <tr>\n",
              "      <th>0</th>\n",
              "      <td>1</td>\n",
              "      <td>0.766127</td>\n",
              "      <td>45</td>\n",
              "      <td>2</td>\n",
              "      <td>0.802982</td>\n",
              "      <td>9120.0</td>\n",
              "      <td>13</td>\n",
              "      <td>0</td>\n",
              "      <td>6</td>\n",
              "      <td>0</td>\n",
              "      <td>2.0</td>\n",
              "    </tr>\n",
              "    <tr>\n",
              "      <th>1</th>\n",
              "      <td>0</td>\n",
              "      <td>0.957151</td>\n",
              "      <td>40</td>\n",
              "      <td>0</td>\n",
              "      <td>0.121876</td>\n",
              "      <td>2600.0</td>\n",
              "      <td>4</td>\n",
              "      <td>0</td>\n",
              "      <td>0</td>\n",
              "      <td>0</td>\n",
              "      <td>1.0</td>\n",
              "    </tr>\n",
              "    <tr>\n",
              "      <th>2</th>\n",
              "      <td>0</td>\n",
              "      <td>0.658180</td>\n",
              "      <td>38</td>\n",
              "      <td>1</td>\n",
              "      <td>0.085113</td>\n",
              "      <td>3042.0</td>\n",
              "      <td>2</td>\n",
              "      <td>1</td>\n",
              "      <td>0</td>\n",
              "      <td>0</td>\n",
              "      <td>0.0</td>\n",
              "    </tr>\n",
              "    <tr>\n",
              "      <th>3</th>\n",
              "      <td>0</td>\n",
              "      <td>0.233810</td>\n",
              "      <td>30</td>\n",
              "      <td>0</td>\n",
              "      <td>0.036050</td>\n",
              "      <td>3300.0</td>\n",
              "      <td>5</td>\n",
              "      <td>0</td>\n",
              "      <td>0</td>\n",
              "      <td>0</td>\n",
              "      <td>0.0</td>\n",
              "    </tr>\n",
              "    <tr>\n",
              "      <th>4</th>\n",
              "      <td>0</td>\n",
              "      <td>0.907239</td>\n",
              "      <td>49</td>\n",
              "      <td>1</td>\n",
              "      <td>0.024926</td>\n",
              "      <td>63588.0</td>\n",
              "      <td>7</td>\n",
              "      <td>0</td>\n",
              "      <td>1</td>\n",
              "      <td>0</td>\n",
              "      <td>0.0</td>\n",
              "    </tr>\n",
              "  </tbody>\n",
              "</table>\n",
              "</div>"
            ]
          },
          "metadata": {
            "tags": []
          },
          "execution_count": 30
        }
      ]
    },
    {
      "cell_type": "code",
      "metadata": {
        "id": "xOVQK7QvpD6a",
        "colab_type": "code",
        "colab": {
          "base_uri": "https://localhost:8080/",
          "height": 311
        },
        "outputId": "f699e8d7-d48e-43a1-8de0-cc49cf38005c"
      },
      "source": [
        "# Describe the all statistical properties of the training dataset\n",
        "training_data[training_data.columns[1:]].describe()"
      ],
      "execution_count": 31,
      "outputs": [
        {
          "output_type": "execute_result",
          "data": {
            "text/plain": [
              "       revolvingutilizationofunsecuredlines            age  \\\n",
              "count                         150000.000000  150000.000000   \n",
              "mean                               6.048438      52.295207   \n",
              "std                              249.755371      14.771866   \n",
              "min                                0.000000       0.000000   \n",
              "25%                                0.029867      41.000000   \n",
              "50%                                0.154181      52.000000   \n",
              "75%                                0.559046      63.000000   \n",
              "max                            50708.000000     109.000000   \n",
              "\n",
              "       numberoftime3059dayspastduenotworse      debtratio  monthlyincome  \\\n",
              "count                        150000.000000  150000.000000   1.202690e+05   \n",
              "mean                              0.421033     353.005076   6.670221e+03   \n",
              "std                               4.192781    2037.818523   1.438467e+04   \n",
              "min                               0.000000       0.000000   0.000000e+00   \n",
              "25%                               0.000000       0.175074   3.400000e+03   \n",
              "50%                               0.000000       0.366508   5.400000e+03   \n",
              "75%                               0.000000       0.868254   8.249000e+03   \n",
              "max                              98.000000  329664.000000   3.008750e+06   \n",
              "\n",
              "       numberofopencreditlinesandloans  numberoftimes90dayslate  \\\n",
              "count                    150000.000000            150000.000000   \n",
              "mean                          8.452760                 0.265973   \n",
              "std                           5.145951                 4.169304   \n",
              "min                           0.000000                 0.000000   \n",
              "25%                           5.000000                 0.000000   \n",
              "50%                           8.000000                 0.000000   \n",
              "75%                          11.000000                 0.000000   \n",
              "max                          58.000000                98.000000   \n",
              "\n",
              "       numberrealestateloansorlines  numberoftime6089dayspastduenotworse  \\\n",
              "count                 150000.000000                        150000.000000   \n",
              "mean                       1.018240                             0.240387   \n",
              "std                        1.129771                             4.155179   \n",
              "min                        0.000000                             0.000000   \n",
              "25%                        0.000000                             0.000000   \n",
              "50%                        1.000000                             0.000000   \n",
              "75%                        2.000000                             0.000000   \n",
              "max                       54.000000                            98.000000   \n",
              "\n",
              "       numberofdependents  \n",
              "count       146076.000000  \n",
              "mean             0.757222  \n",
              "std              1.115086  \n",
              "min              0.000000  \n",
              "25%              0.000000  \n",
              "50%              0.000000  \n",
              "75%              1.000000  \n",
              "max             20.000000  "
            ],
            "text/html": [
              "<div>\n",
              "<style scoped>\n",
              "    .dataframe tbody tr th:only-of-type {\n",
              "        vertical-align: middle;\n",
              "    }\n",
              "\n",
              "    .dataframe tbody tr th {\n",
              "        vertical-align: top;\n",
              "    }\n",
              "\n",
              "    .dataframe thead th {\n",
              "        text-align: right;\n",
              "    }\n",
              "</style>\n",
              "<table border=\"1\" class=\"dataframe\">\n",
              "  <thead>\n",
              "    <tr style=\"text-align: right;\">\n",
              "      <th></th>\n",
              "      <th>revolvingutilizationofunsecuredlines</th>\n",
              "      <th>age</th>\n",
              "      <th>numberoftime3059dayspastduenotworse</th>\n",
              "      <th>debtratio</th>\n",
              "      <th>monthlyincome</th>\n",
              "      <th>numberofopencreditlinesandloans</th>\n",
              "      <th>numberoftimes90dayslate</th>\n",
              "      <th>numberrealestateloansorlines</th>\n",
              "      <th>numberoftime6089dayspastduenotworse</th>\n",
              "      <th>numberofdependents</th>\n",
              "    </tr>\n",
              "  </thead>\n",
              "  <tbody>\n",
              "    <tr>\n",
              "      <th>count</th>\n",
              "      <td>150000.000000</td>\n",
              "      <td>150000.000000</td>\n",
              "      <td>150000.000000</td>\n",
              "      <td>150000.000000</td>\n",
              "      <td>1.202690e+05</td>\n",
              "      <td>150000.000000</td>\n",
              "      <td>150000.000000</td>\n",
              "      <td>150000.000000</td>\n",
              "      <td>150000.000000</td>\n",
              "      <td>146076.000000</td>\n",
              "    </tr>\n",
              "    <tr>\n",
              "      <th>mean</th>\n",
              "      <td>6.048438</td>\n",
              "      <td>52.295207</td>\n",
              "      <td>0.421033</td>\n",
              "      <td>353.005076</td>\n",
              "      <td>6.670221e+03</td>\n",
              "      <td>8.452760</td>\n",
              "      <td>0.265973</td>\n",
              "      <td>1.018240</td>\n",
              "      <td>0.240387</td>\n",
              "      <td>0.757222</td>\n",
              "    </tr>\n",
              "    <tr>\n",
              "      <th>std</th>\n",
              "      <td>249.755371</td>\n",
              "      <td>14.771866</td>\n",
              "      <td>4.192781</td>\n",
              "      <td>2037.818523</td>\n",
              "      <td>1.438467e+04</td>\n",
              "      <td>5.145951</td>\n",
              "      <td>4.169304</td>\n",
              "      <td>1.129771</td>\n",
              "      <td>4.155179</td>\n",
              "      <td>1.115086</td>\n",
              "    </tr>\n",
              "    <tr>\n",
              "      <th>min</th>\n",
              "      <td>0.000000</td>\n",
              "      <td>0.000000</td>\n",
              "      <td>0.000000</td>\n",
              "      <td>0.000000</td>\n",
              "      <td>0.000000e+00</td>\n",
              "      <td>0.000000</td>\n",
              "      <td>0.000000</td>\n",
              "      <td>0.000000</td>\n",
              "      <td>0.000000</td>\n",
              "      <td>0.000000</td>\n",
              "    </tr>\n",
              "    <tr>\n",
              "      <th>25%</th>\n",
              "      <td>0.029867</td>\n",
              "      <td>41.000000</td>\n",
              "      <td>0.000000</td>\n",
              "      <td>0.175074</td>\n",
              "      <td>3.400000e+03</td>\n",
              "      <td>5.000000</td>\n",
              "      <td>0.000000</td>\n",
              "      <td>0.000000</td>\n",
              "      <td>0.000000</td>\n",
              "      <td>0.000000</td>\n",
              "    </tr>\n",
              "    <tr>\n",
              "      <th>50%</th>\n",
              "      <td>0.154181</td>\n",
              "      <td>52.000000</td>\n",
              "      <td>0.000000</td>\n",
              "      <td>0.366508</td>\n",
              "      <td>5.400000e+03</td>\n",
              "      <td>8.000000</td>\n",
              "      <td>0.000000</td>\n",
              "      <td>1.000000</td>\n",
              "      <td>0.000000</td>\n",
              "      <td>0.000000</td>\n",
              "    </tr>\n",
              "    <tr>\n",
              "      <th>75%</th>\n",
              "      <td>0.559046</td>\n",
              "      <td>63.000000</td>\n",
              "      <td>0.000000</td>\n",
              "      <td>0.868254</td>\n",
              "      <td>8.249000e+03</td>\n",
              "      <td>11.000000</td>\n",
              "      <td>0.000000</td>\n",
              "      <td>2.000000</td>\n",
              "      <td>0.000000</td>\n",
              "      <td>1.000000</td>\n",
              "    </tr>\n",
              "    <tr>\n",
              "      <th>max</th>\n",
              "      <td>50708.000000</td>\n",
              "      <td>109.000000</td>\n",
              "      <td>98.000000</td>\n",
              "      <td>329664.000000</td>\n",
              "      <td>3.008750e+06</td>\n",
              "      <td>58.000000</td>\n",
              "      <td>98.000000</td>\n",
              "      <td>54.000000</td>\n",
              "      <td>98.000000</td>\n",
              "      <td>20.000000</td>\n",
              "    </tr>\n",
              "  </tbody>\n",
              "</table>\n",
              "</div>"
            ]
          },
          "metadata": {
            "tags": []
          },
          "execution_count": 31
        }
      ]
    },
    {
      "cell_type": "code",
      "metadata": {
        "id": "hqgZywhRpD6c",
        "colab_type": "code",
        "colab": {
          "base_uri": "https://localhost:8080/",
          "height": 212
        },
        "outputId": "157bac7c-fbb4-40ff-ff99-f5bbcf05691c"
      },
      "source": [
        "training_data[training_data.columns[1:]].median()"
      ],
      "execution_count": 32,
      "outputs": [
        {
          "output_type": "execute_result",
          "data": {
            "text/plain": [
              "revolvingutilizationofunsecuredlines       0.154181\n",
              "age                                       52.000000\n",
              "numberoftime3059dayspastduenotworse        0.000000\n",
              "debtratio                                  0.366508\n",
              "monthlyincome                           5400.000000\n",
              "numberofopencreditlinesandloans            8.000000\n",
              "numberoftimes90dayslate                    0.000000\n",
              "numberrealestateloansorlines               1.000000\n",
              "numberoftime6089dayspastduenotworse        0.000000\n",
              "numberofdependents                         0.000000\n",
              "dtype: float64"
            ]
          },
          "metadata": {
            "tags": []
          },
          "execution_count": 32
        }
      ]
    },
    {
      "cell_type": "code",
      "metadata": {
        "id": "NJ37zOIYpD6f",
        "colab_type": "code",
        "colab": {
          "base_uri": "https://localhost:8080/",
          "height": 212
        },
        "outputId": "a63edffd-8dd1-45a8-d31b-bd51dd59b028"
      },
      "source": [
        "training_data[training_data.columns[1:]].mean()"
      ],
      "execution_count": 33,
      "outputs": [
        {
          "output_type": "execute_result",
          "data": {
            "text/plain": [
              "revolvingutilizationofunsecuredlines       6.048438\n",
              "age                                       52.295207\n",
              "numberoftime3059dayspastduenotworse        0.421033\n",
              "debtratio                                353.005076\n",
              "monthlyincome                           6670.221237\n",
              "numberofopencreditlinesandloans            8.452760\n",
              "numberoftimes90dayslate                    0.265973\n",
              "numberrealestateloansorlines               1.018240\n",
              "numberoftime6089dayspastduenotworse        0.240387\n",
              "numberofdependents                         0.757222\n",
              "dtype: float64"
            ]
          },
          "metadata": {
            "tags": []
          },
          "execution_count": 33
        }
      ]
    },
    {
      "cell_type": "code",
      "metadata": {
        "id": "-ywPYsKcpD6h",
        "colab_type": "code",
        "colab": {
          "base_uri": "https://localhost:8080/",
          "height": 70
        },
        "outputId": "ed65c1b1-2553-4cf7-d94d-b1f19ed34463"
      },
      "source": [
        "# This give you the calulation of the target lebels. Which category of the target lebel is how many percentage.\n",
        "total_len = len(training_data['seriousdlqin2yrs'])\n",
        "percentage_labels = (training_data['seriousdlqin2yrs'].value_counts()/total_len)*100\n",
        "percentage_labels"
      ],
      "execution_count": 34,
      "outputs": [
        {
          "output_type": "execute_result",
          "data": {
            "text/plain": [
              "0    93.316\n",
              "1     6.684\n",
              "Name: seriousdlqin2yrs, dtype: float64"
            ]
          },
          "metadata": {
            "tags": []
          },
          "execution_count": 34
        }
      ]
    },
    {
      "cell_type": "code",
      "metadata": {
        "id": "9irYB_DNpD6k",
        "colab_type": "code",
        "colab": {
          "base_uri": "https://localhost:8080/",
          "height": 301
        },
        "outputId": "d4f9ecfc-3e2e-49ae-d721-9159fc4a5c82"
      },
      "source": [
        "# Graphical representation of the target label percentage.\n",
        "sns.set()\n",
        "sns.countplot(training_data.seriousdlqin2yrs).set_title('Data Distribution')\n",
        "ax = plt.gca()\n",
        "for p in ax.patches:\n",
        "    height = p.get_height()\n",
        "    ax.text(p.get_x() + p.get_width()/2.,\n",
        "            height + 2,\n",
        "            '{:.2f}%'.format(100*(height/total_len)),\n",
        "            fontsize=12, ha='center', va='bottom')\n",
        "sns.set(font_scale=1.5)\n",
        "ax.set_xlabel(\"Labels for seriousdlqin2yrs attribute\")\n",
        "ax.set_ylabel(\"Numbers of records\")\n",
        "plt.show()\n"
      ],
      "execution_count": 35,
      "outputs": [
        {
          "output_type": "display_data",
          "data": {
            "image/png": "[encoded data removed]",
            "text/plain": [
              "<Figure size 432x288 with 1 Axes>"
            ]
          },
          "metadata": {
            "tags": []
          }
        }
      ]
    },
    {
      "cell_type": "markdown",
      "metadata": {
        "id": "y5bcWFTvpD6m",
        "colab_type": "text"
      },
      "source": [
        "### Missing values"
      ]
    },
    {
      "cell_type": "code",
      "metadata": {
        "id": "s_LdDBGwpD6n",
        "colab_type": "code",
        "colab": {
          "base_uri": "https://localhost:8080/",
          "height": 230
        },
        "outputId": "d6034e5e-d189-470b-9ee3-9a6911b17868"
      },
      "source": [
        "# You will get to know which column has missing value and it's give the count that how many records are missing \n",
        "training_data.isnull().sum()"
      ],
      "execution_count": 36,
      "outputs": [
        {
          "output_type": "execute_result",
          "data": {
            "text/plain": [
              "seriousdlqin2yrs                            0\n",
              "revolvingutilizationofunsecuredlines        0\n",
              "age                                         0\n",
              "numberoftime3059dayspastduenotworse         0\n",
              "debtratio                                   0\n",
              "monthlyincome                           29731\n",
              "numberofopencreditlinesandloans             0\n",
              "numberoftimes90dayslate                     0\n",
              "numberrealestateloansorlines                0\n",
              "numberoftime6089dayspastduenotworse         0\n",
              "numberofdependents                       3924\n",
              "dtype: int64"
            ]
          },
          "metadata": {
            "tags": []
          },
          "execution_count": 36
        }
      ]
    },
    {
      "cell_type": "code",
      "metadata": {
        "id": "UhZCLYLmpD6p",
        "colab_type": "code",
        "colab": {
          "base_uri": "https://localhost:8080/",
          "height": 524
        },
        "outputId": "bd9ee009-b9a7-4c66-fb6e-ba90a0cb63c0"
      },
      "source": [
        "# Graphical representation of the missing values.\n",
        "x = training_data.columns\n",
        "y = training_data.isnull().sum()\n",
        "sns.set()\n",
        "sns.barplot(x,y)\n",
        "ax = plt.gca()\n",
        "for p in ax.patches:\n",
        "    height = p.get_height()\n",
        "    ax.text(p.get_x() + p.get_width()/2.,\n",
        "            height + 2,\n",
        "            int(height),\n",
        "            fontsize=12, ha='center', va='bottom')\n",
        "ax.set_xlabel(\"Data Attributes\")\n",
        "ax.set_ylabel(\"count of missing records for each attribute\")\n",
        "plt.xticks(rotation=90)\n",
        "plt.show()"
      ],
      "execution_count": 37,
      "outputs": [
        {
          "output_type": "display_data",
          "data": {
            "image/png": "[encoded data removed]",
            "text/plain": [
              "<Figure size 432x288 with 1 Axes>"
            ]
          },
          "metadata": {
            "tags": []
          }
        }
      ]
    },
    {
      "cell_type": "code",
      "metadata": {
        "id": "chFL5PYQpD6r",
        "colab_type": "code",
        "colab": {
          "base_uri": "https://localhost:8080/",
          "height": 220
        },
        "outputId": "ff7cd81f-cf56-4687-b43a-e6c2e253641e"
      },
      "source": [
        "# Actual replacement of the missing value using mean value.\n",
        "training_data_mean_replace = training_data.fillna((training_data.mean()))\n",
        "training_data_mean_replace.head()"
      ],
      "execution_count": 38,
      "outputs": [
        {
          "output_type": "execute_result",
          "data": {
            "text/plain": [
              "   seriousdlqin2yrs  revolvingutilizationofunsecuredlines  age  \\\n",
              "0                 1                              0.766127   45   \n",
              "1                 0                              0.957151   40   \n",
              "2                 0                              0.658180   38   \n",
              "3                 0                              0.233810   30   \n",
              "4                 0                              0.907239   49   \n",
              "\n",
              "   numberoftime3059dayspastduenotworse  debtratio  monthlyincome  \\\n",
              "0                                    2   0.802982         9120.0   \n",
              "1                                    0   0.121876         2600.0   \n",
              "2                                    1   0.085113         3042.0   \n",
              "3                                    0   0.036050         3300.0   \n",
              "4                                    1   0.024926        63588.0   \n",
              "\n",
              "   numberofopencreditlinesandloans  numberoftimes90dayslate  \\\n",
              "0                               13                        0   \n",
              "1                                4                        0   \n",
              "2                                2                        1   \n",
              "3                                5                        0   \n",
              "4                                7                        0   \n",
              "\n",
              "   numberrealestateloansorlines  numberoftime6089dayspastduenotworse  \\\n",
              "0                             6                                    0   \n",
              "1                             0                                    0   \n",
              "2                             0                                    0   \n",
              "3                             0                                    0   \n",
              "4                             1                                    0   \n",
              "\n",
              "   numberofdependents  \n",
              "0                 2.0  \n",
              "1                 1.0  \n",
              "2                 0.0  \n",
              "3                 0.0  \n",
              "4                 0.0  "
            ],
            "text/html": [
              "<div>\n",
              "<style scoped>\n",
              "    .dataframe tbody tr th:only-of-type {\n",
              "        vertical-align: middle;\n",
              "    }\n",
              "\n",
              "    .dataframe tbody tr th {\n",
              "        vertical-align: top;\n",
              "    }\n",
              "\n",
              "    .dataframe thead th {\n",
              "        text-align: right;\n",
              "    }\n",
              "</style>\n",
              "<table border=\"1\" class=\"dataframe\">\n",
              "  <thead>\n",
              "    <tr style=\"text-align: right;\">\n",
              "      <th></th>\n",
              "      <th>seriousdlqin2yrs</th>\n",
              "      <th>revolvingutilizationofunsecuredlines</th>\n",
              "      <th>age</th>\n",
              "      <th>numberoftime3059dayspastduenotworse</th>\n",
              "      <th>debtratio</th>\n",
              "      <th>monthlyincome</th>\n",
              "      <th>numberofopencreditlinesandloans</th>\n",
              "      <th>numberoftimes90dayslate</th>\n",
              "      <th>numberrealestateloansorlines</th>\n",
              "      <th>numberoftime6089dayspastduenotworse</th>\n",
              "      <th>numberofdependents</th>\n",
              "    </tr>\n",
              "  </thead>\n",
              "  <tbody>\n",
              "    <tr>\n",
              "      <th>0</th>\n",
              "      <td>1</td>\n",
              "      <td>0.766127</td>\n",
              "      <td>45</td>\n",
              "      <td>2</td>\n",
              "      <td>0.802982</td>\n",
              "      <td>9120.0</td>\n",
              "      <td>13</td>\n",
              "      <td>0</td>\n",
              "      <td>6</td>\n",
              "      <td>0</td>\n",
              "      <td>2.0</td>\n",
              "    </tr>\n",
              "    <tr>\n",
              "      <th>1</th>\n",
              "      <td>0</td>\n",
              "      <td>0.957151</td>\n",
              "      <td>40</td>\n",
              "      <td>0</td>\n",
              "      <td>0.121876</td>\n",
              "      <td>2600.0</td>\n",
              "      <td>4</td>\n",
              "      <td>0</td>\n",
              "      <td>0</td>\n",
              "      <td>0</td>\n",
              "      <td>1.0</td>\n",
              "    </tr>\n",
              "    <tr>\n",
              "      <th>2</th>\n",
              "      <td>0</td>\n",
              "      <td>0.658180</td>\n",
              "      <td>38</td>\n",
              "      <td>1</td>\n",
              "      <td>0.085113</td>\n",
              "      <td>3042.0</td>\n",
              "      <td>2</td>\n",
              "      <td>1</td>\n",
              "      <td>0</td>\n",
              "      <td>0</td>\n",
              "      <td>0.0</td>\n",
              "    </tr>\n",
              "    <tr>\n",
              "      <th>3</th>\n",
              "      <td>0</td>\n",
              "      <td>0.233810</td>\n",
              "      <td>30</td>\n",
              "      <td>0</td>\n",
              "      <td>0.036050</td>\n",
              "      <td>3300.0</td>\n",
              "      <td>5</td>\n",
              "      <td>0</td>\n",
              "      <td>0</td>\n",
              "      <td>0</td>\n",
              "      <td>0.0</td>\n",
              "    </tr>\n",
              "    <tr>\n",
              "      <th>4</th>\n",
              "      <td>0</td>\n",
              "      <td>0.907239</td>\n",
              "      <td>49</td>\n",
              "      <td>1</td>\n",
              "      <td>0.024926</td>\n",
              "      <td>63588.0</td>\n",
              "      <td>7</td>\n",
              "      <td>0</td>\n",
              "      <td>1</td>\n",
              "      <td>0</td>\n",
              "      <td>0.0</td>\n",
              "    </tr>\n",
              "  </tbody>\n",
              "</table>\n",
              "</div>"
            ]
          },
          "metadata": {
            "tags": []
          },
          "execution_count": 38
        }
      ]
    },
    {
      "cell_type": "code",
      "metadata": {
        "id": "sCyDcDRhpD6u",
        "colab_type": "code",
        "colab": {
          "base_uri": "https://localhost:8080/",
          "height": 230
        },
        "outputId": "2788332f-5d82-4d72-ef57-54dc33b2cfe6"
      },
      "source": [
        "training_data_mean_replace.isnull().sum()"
      ],
      "execution_count": 39,
      "outputs": [
        {
          "output_type": "execute_result",
          "data": {
            "text/plain": [
              "seriousdlqin2yrs                        0\n",
              "revolvingutilizationofunsecuredlines    0\n",
              "age                                     0\n",
              "numberoftime3059dayspastduenotworse     0\n",
              "debtratio                               0\n",
              "monthlyincome                           0\n",
              "numberofopencreditlinesandloans         0\n",
              "numberoftimes90dayslate                 0\n",
              "numberrealestateloansorlines            0\n",
              "numberoftime6089dayspastduenotworse     0\n",
              "numberofdependents                      0\n",
              "dtype: int64"
            ]
          },
          "metadata": {
            "tags": []
          },
          "execution_count": 39
        }
      ]
    },
    {
      "cell_type": "code",
      "metadata": {
        "id": "Dp_KJ-VJpD6w",
        "colab_type": "code",
        "colab": {
          "base_uri": "https://localhost:8080/",
          "height": 220
        },
        "outputId": "9d874ac4-96c4-40e6-de3a-8f42a4a7a848"
      },
      "source": [
        "# Actual replacement of the missing value using median value.\n",
        "training_data_median_replace = training_data.fillna((training_data.median()))\n",
        "training_data_median_replace.head()"
      ],
      "execution_count": 40,
      "outputs": [
        {
          "output_type": "execute_result",
          "data": {
            "text/plain": [
              "   seriousdlqin2yrs  revolvingutilizationofunsecuredlines  age  \\\n",
              "0                 1                              0.766127   45   \n",
              "1                 0                              0.957151   40   \n",
              "2                 0                              0.658180   38   \n",
              "3                 0                              0.233810   30   \n",
              "4                 0                              0.907239   49   \n",
              "\n",
              "   numberoftime3059dayspastduenotworse  debtratio  monthlyincome  \\\n",
              "0                                    2   0.802982         9120.0   \n",
              "1                                    0   0.121876         2600.0   \n",
              "2                                    1   0.085113         3042.0   \n",
              "3                                    0   0.036050         3300.0   \n",
              "4                                    1   0.024926        63588.0   \n",
              "\n",
              "   numberofopencreditlinesandloans  numberoftimes90dayslate  \\\n",
              "0                               13                        0   \n",
              "1                                4                        0   \n",
              "2                                2                        1   \n",
              "3                                5                        0   \n",
              "4                                7                        0   \n",
              "\n",
              "   numberrealestateloansorlines  numberoftime6089dayspastduenotworse  \\\n",
              "0                             6                                    0   \n",
              "1                             0                                    0   \n",
              "2                             0                                    0   \n",
              "3                             0                                    0   \n",
              "4                             1                                    0   \n",
              "\n",
              "   numberofdependents  \n",
              "0                 2.0  \n",
              "1                 1.0  \n",
              "2                 0.0  \n",
              "3                 0.0  \n",
              "4                 0.0  "
            ],
            "text/html": [
              "<div>\n",
              "<style scoped>\n",
              "    .dataframe tbody tr th:only-of-type {\n",
              "        vertical-align: middle;\n",
              "    }\n",
              "\n",
              "    .dataframe tbody tr th {\n",
              "        vertical-align: top;\n",
              "    }\n",
              "\n",
              "    .dataframe thead th {\n",
              "        text-align: right;\n",
              "    }\n",
              "</style>\n",
              "<table border=\"1\" class=\"dataframe\">\n",
              "  <thead>\n",
              "    <tr style=\"text-align: right;\">\n",
              "      <th></th>\n",
              "      <th>seriousdlqin2yrs</th>\n",
              "      <th>revolvingutilizationofunsecuredlines</th>\n",
              "      <th>age</th>\n",
              "      <th>numberoftime3059dayspastduenotworse</th>\n",
              "      <th>debtratio</th>\n",
              "      <th>monthlyincome</th>\n",
              "      <th>numberofopencreditlinesandloans</th>\n",
              "      <th>numberoftimes90dayslate</th>\n",
              "      <th>numberrealestateloansorlines</th>\n",
              "      <th>numberoftime6089dayspastduenotworse</th>\n",
              "      <th>numberofdependents</th>\n",
              "    </tr>\n",
              "  </thead>\n",
              "  <tbody>\n",
              "    <tr>\n",
              "      <th>0</th>\n",
              "      <td>1</td>\n",
              "      <td>0.766127</td>\n",
              "      <td>45</td>\n",
              "      <td>2</td>\n",
              "      <td>0.802982</td>\n",
              "      <td>9120.0</td>\n",
              "      <td>13</td>\n",
              "      <td>0</td>\n",
              "      <td>6</td>\n",
              "      <td>0</td>\n",
              "      <td>2.0</td>\n",
              "    </tr>\n",
              "    <tr>\n",
              "      <th>1</th>\n",
              "      <td>0</td>\n",
              "      <td>0.957151</td>\n",
              "      <td>40</td>\n",
              "      <td>0</td>\n",
              "      <td>0.121876</td>\n",
              "      <td>2600.0</td>\n",
              "      <td>4</td>\n",
              "      <td>0</td>\n",
              "      <td>0</td>\n",
              "      <td>0</td>\n",
              "      <td>1.0</td>\n",
              "    </tr>\n",
              "    <tr>\n",
              "      <th>2</th>\n",
              "      <td>0</td>\n",
              "      <td>0.658180</td>\n",
              "      <td>38</td>\n",
              "      <td>1</td>\n",
              "      <td>0.085113</td>\n",
              "      <td>3042.0</td>\n",
              "      <td>2</td>\n",
              "      <td>1</td>\n",
              "      <td>0</td>\n",
              "      <td>0</td>\n",
              "      <td>0.0</td>\n",
              "    </tr>\n",
              "    <tr>\n",
              "      <th>3</th>\n",
              "      <td>0</td>\n",
              "      <td>0.233810</td>\n",
              "      <td>30</td>\n",
              "      <td>0</td>\n",
              "      <td>0.036050</td>\n",
              "      <td>3300.0</td>\n",
              "      <td>5</td>\n",
              "      <td>0</td>\n",
              "      <td>0</td>\n",
              "      <td>0</td>\n",
              "      <td>0.0</td>\n",
              "    </tr>\n",
              "    <tr>\n",
              "      <th>4</th>\n",
              "      <td>0</td>\n",
              "      <td>0.907239</td>\n",
              "      <td>49</td>\n",
              "      <td>1</td>\n",
              "      <td>0.024926</td>\n",
              "      <td>63588.0</td>\n",
              "      <td>7</td>\n",
              "      <td>0</td>\n",
              "      <td>1</td>\n",
              "      <td>0</td>\n",
              "      <td>0.0</td>\n",
              "    </tr>\n",
              "  </tbody>\n",
              "</table>\n",
              "</div>"
            ]
          },
          "metadata": {
            "tags": []
          },
          "execution_count": 40
        }
      ]
    },
    {
      "cell_type": "code",
      "metadata": {
        "id": "fd_KSuB_pD6y",
        "colab_type": "code",
        "colab": {
          "base_uri": "https://localhost:8080/",
          "height": 230
        },
        "outputId": "d739592a-0e8d-48d7-a080-e9cfb82301f3"
      },
      "source": [
        "training_data_median_replace.isnull().sum()"
      ],
      "execution_count": 41,
      "outputs": [
        {
          "output_type": "execute_result",
          "data": {
            "text/plain": [
              "seriousdlqin2yrs                        0\n",
              "revolvingutilizationofunsecuredlines    0\n",
              "age                                     0\n",
              "numberoftime3059dayspastduenotworse     0\n",
              "debtratio                               0\n",
              "monthlyincome                           0\n",
              "numberofopencreditlinesandloans         0\n",
              "numberoftimes90dayslate                 0\n",
              "numberrealestateloansorlines            0\n",
              "numberoftime6089dayspastduenotworse     0\n",
              "numberofdependents                      0\n",
              "dtype: int64"
            ]
          },
          "metadata": {
            "tags": []
          },
          "execution_count": 41
        }
      ]
    },
    {
      "cell_type": "markdown",
      "metadata": {
        "id": "rARIdCMFpD60",
        "colab_type": "text"
      },
      "source": [
        "### Correlation"
      ]
    },
    {
      "cell_type": "code",
      "metadata": {
        "id": "M5GYGF66pD61",
        "colab_type": "code",
        "colab": {
          "base_uri": "https://localhost:8080/",
          "height": 372
        },
        "outputId": "52617179-57af-4df9-c0c0-281368709f36"
      },
      "source": [
        "training_data.fillna((training_data.median()), inplace=True)\n",
        "# Get the correlation of the training dataset\n",
        "training_data[training_data.columns[1:]].corr()"
      ],
      "execution_count": 42,
      "outputs": [
        {
          "output_type": "execute_result",
          "data": {
            "text/plain": [
              "                                      revolvingutilizationofunsecuredlines  \\\n",
              "revolvingutilizationofunsecuredlines                              1.000000   \n",
              "age                                                              -0.005898   \n",
              "numberoftime3059dayspastduenotworse                              -0.001314   \n",
              "debtratio                                                         0.003961   \n",
              "monthlyincome                                                     0.006513   \n",
              "numberofopencreditlinesandloans                                  -0.011281   \n",
              "numberoftimes90dayslate                                          -0.001061   \n",
              "numberrealestateloansorlines                                      0.006235   \n",
              "numberoftime6089dayspastduenotworse                              -0.001048   \n",
              "numberofdependents                                                0.001193   \n",
              "\n",
              "                                           age  \\\n",
              "revolvingutilizationofunsecuredlines -0.005898   \n",
              "age                                   1.000000   \n",
              "numberoftime3059dayspastduenotworse  -0.062995   \n",
              "debtratio                             0.024188   \n",
              "monthlyincome                         0.027581   \n",
              "numberofopencreditlinesandloans       0.147705   \n",
              "numberoftimes90dayslate              -0.061005   \n",
              "numberrealestateloansorlines          0.033150   \n",
              "numberoftime6089dayspastduenotworse  -0.057159   \n",
              "numberofdependents                   -0.215693   \n",
              "\n",
              "                                      numberoftime3059dayspastduenotworse  \\\n",
              "revolvingutilizationofunsecuredlines                            -0.001314   \n",
              "age                                                             -0.062995   \n",
              "numberoftime3059dayspastduenotworse                              1.000000   \n",
              "debtratio                                                       -0.006542   \n",
              "monthlyincome                                                   -0.008370   \n",
              "numberofopencreditlinesandloans                                 -0.055312   \n",
              "numberoftimes90dayslate                                          0.983603   \n",
              "numberrealestateloansorlines                                    -0.030565   \n",
              "numberoftime6089dayspastduenotworse                              0.987005   \n",
              "numberofdependents                                              -0.004590   \n",
              "\n",
              "                                      debtratio  monthlyincome  \\\n",
              "revolvingutilizationofunsecuredlines   0.003961       0.006513   \n",
              "age                                    0.024188       0.027581   \n",
              "numberoftime3059dayspastduenotworse   -0.006542      -0.008370   \n",
              "debtratio                              1.000000      -0.018006   \n",
              "monthlyincome                         -0.018006       1.000000   \n",
              "numberofopencreditlinesandloans        0.049565       0.086949   \n",
              "numberoftimes90dayslate               -0.008320      -0.010500   \n",
              "numberrealestateloansorlines           0.120046       0.116273   \n",
              "numberoftime6089dayspastduenotworse   -0.007533      -0.009252   \n",
              "numberofdependents                    -0.044476       0.066314   \n",
              "\n",
              "                                      numberofopencreditlinesandloans  \\\n",
              "revolvingutilizationofunsecuredlines                        -0.011281   \n",
              "age                                                          0.147705   \n",
              "numberoftime3059dayspastduenotworse                         -0.055312   \n",
              "debtratio                                                    0.049565   \n",
              "monthlyincome                                                0.086949   \n",
              "numberofopencreditlinesandloans                              1.000000   \n",
              "numberoftimes90dayslate                                     -0.079984   \n",
              "numberrealestateloansorlines                                 0.433959   \n",
              "numberoftime6089dayspastduenotworse                         -0.071077   \n",
              "numberofdependents                                           0.074026   \n",
              "\n",
              "                                      numberoftimes90dayslate  \\\n",
              "revolvingutilizationofunsecuredlines                -0.001061   \n",
              "age                                                 -0.061005   \n",
              "numberoftime3059dayspastduenotworse                  0.983603   \n",
              "debtratio                                           -0.008320   \n",
              "monthlyincome                                       -0.010500   \n",
              "numberofopencreditlinesandloans                     -0.079984   \n",
              "numberoftimes90dayslate                              1.000000   \n",
              "numberrealestateloansorlines                        -0.045205   \n",
              "numberoftime6089dayspastduenotworse                  0.992796   \n",
              "numberofdependents                                  -0.011962   \n",
              "\n",
              "                                      numberrealestateloansorlines  \\\n",
              "revolvingutilizationofunsecuredlines                      0.006235   \n",
              "age                                                       0.033150   \n",
              "numberoftime3059dayspastduenotworse                      -0.030565   \n",
              "debtratio                                                 0.120046   \n",
              "monthlyincome                                             0.116273   \n",
              "numberofopencreditlinesandloans                           0.433959   \n",
              "numberoftimes90dayslate                                  -0.045205   \n",
              "numberrealestateloansorlines                              1.000000   \n",
              "numberoftime6089dayspastduenotworse                      -0.039722   \n",
              "numberofdependents                                        0.129399   \n",
              "\n",
              "                                      numberoftime6089dayspastduenotworse  \\\n",
              "revolvingutilizationofunsecuredlines                            -0.001048   \n",
              "age                                                             -0.057159   \n",
              "numberoftime3059dayspastduenotworse                              0.987005   \n",
              "debtratio                                                       -0.007533   \n",
              "monthlyincome                                                   -0.009252   \n",
              "numberofopencreditlinesandloans                                 -0.071077   \n",
              "numberoftimes90dayslate                                          0.992796   \n",
              "numberrealestateloansorlines                                    -0.039722   \n",
              "numberoftime6089dayspastduenotworse                              1.000000   \n",
              "numberofdependents                                              -0.012678   \n",
              "\n",
              "                                      numberofdependents  \n",
              "revolvingutilizationofunsecuredlines            0.001193  \n",
              "age                                            -0.215693  \n",
              "numberoftime3059dayspastduenotworse            -0.004590  \n",
              "debtratio                                      -0.044476  \n",
              "monthlyincome                                   0.066314  \n",
              "numberofopencreditlinesandloans                 0.074026  \n",
              "numberoftimes90dayslate                        -0.011962  \n",
              "numberrealestateloansorlines                    0.129399  \n",
              "numberoftime6089dayspastduenotworse            -0.012678  \n",
              "numberofdependents                              1.000000  "
            ],
            "text/html": [
              "<div>\n",
              "<style scoped>\n",
              "    .dataframe tbody tr th:only-of-type {\n",
              "        vertical-align: middle;\n",
              "    }\n",
              "\n",
              "    .dataframe tbody tr th {\n",
              "        vertical-align: top;\n",
              "    }\n",
              "\n",
              "    .dataframe thead th {\n",
              "        text-align: right;\n",
              "    }\n",
              "</style>\n",
              "<table border=\"1\" class=\"dataframe\">\n",
              "  <thead>\n",
              "    <tr style=\"text-align: right;\">\n",
              "      <th></th>\n",
              "      <th>revolvingutilizationofunsecuredlines</th>\n",
              "      <th>age</th>\n",
              "      <th>numberoftime3059dayspastduenotworse</th>\n",
              "      <th>debtratio</th>\n",
              "      <th>monthlyincome</th>\n",
              "      <th>numberofopencreditlinesandloans</th>\n",
              "      <th>numberoftimes90dayslate</th>\n",
              "      <th>numberrealestateloansorlines</th>\n",
              "      <th>numberoftime6089dayspastduenotworse</th>\n",
              "      <th>numberofdependents</th>\n",
              "    </tr>\n",
              "  </thead>\n",
              "  <tbody>\n",
              "    <tr>\n",
              "      <th>revolvingutilizationofunsecuredlines</th>\n",
              "      <td>1.000000</td>\n",
              "      <td>-0.005898</td>\n",
              "      <td>-0.001314</td>\n",
              "      <td>0.003961</td>\n",
              "      <td>0.006513</td>\n",
              "      <td>-0.011281</td>\n",
              "      <td>-0.001061</td>\n",
              "      <td>0.006235</td>\n",
              "      <td>-0.001048</td>\n",
              "      <td>0.001193</td>\n",
              "    </tr>\n",
              "    <tr>\n",
              "      <th>age</th>\n",
              "      <td>-0.005898</td>\n",
              "      <td>1.000000</td>\n",
              "      <td>-0.062995</td>\n",
              "      <td>0.024188</td>\n",
              "      <td>0.027581</td>\n",
              "      <td>0.147705</td>\n",
              "      <td>-0.061005</td>\n",
              "      <td>0.033150</td>\n",
              "      <td>-0.057159</td>\n",
              "      <td>-0.215693</td>\n",
              "    </tr>\n",
              "    <tr>\n",
              "      <th>numberoftime3059dayspastduenotworse</th>\n",
              "      <td>-0.001314</td>\n",
              "      <td>-0.062995</td>\n",
              "      <td>1.000000</td>\n",
              "      <td>-0.006542</td>\n",
              "      <td>-0.008370</td>\n",
              "      <td>-0.055312</td>\n",
              "      <td>0.983603</td>\n",
              "      <td>-0.030565</td>\n",
              "      <td>0.987005</td>\n",
              "      <td>-0.004590</td>\n",
              "    </tr>\n",
              "    <tr>\n",
              "      <th>debtratio</th>\n",
              "      <td>0.003961</td>\n",
              "      <td>0.024188</td>\n",
              "      <td>-0.006542</td>\n",
              "      <td>1.000000</td>\n",
              "      <td>-0.018006</td>\n",
              "      <td>0.049565</td>\n",
              "      <td>-0.008320</td>\n",
              "      <td>0.120046</td>\n",
              "      <td>-0.007533</td>\n",
              "      <td>-0.044476</td>\n",
              "    </tr>\n",
              "    <tr>\n",
              "      <th>monthlyincome</th>\n",
              "      <td>0.006513</td>\n",
              "      <td>0.027581</td>\n",
              "      <td>-0.008370</td>\n",
              "      <td>-0.018006</td>\n",
              "      <td>1.000000</td>\n",
              "      <td>0.086949</td>\n",
              "      <td>-0.010500</td>\n",
              "      <td>0.116273</td>\n",
              "      <td>-0.009252</td>\n",
              "      <td>0.066314</td>\n",
              "    </tr>\n",
              "    <tr>\n",
              "      <th>numberofopencreditlinesandloans</th>\n",
              "      <td>-0.011281</td>\n",
              "      <td>0.147705</td>\n",
              "      <td>-0.055312</td>\n",
              "      <td>0.049565</td>\n",
              "      <td>0.086949</td>\n",
              "      <td>1.000000</td>\n",
              "      <td>-0.079984</td>\n",
              "      <td>0.433959</td>\n",
              "      <td>-0.071077</td>\n",
              "      <td>0.074026</td>\n",
              "    </tr>\n",
              "    <tr>\n",
              "      <th>numberoftimes90dayslate</th>\n",
              "      <td>-0.001061</td>\n",
              "      <td>-0.061005</td>\n",
              "      <td>0.983603</td>\n",
              "      <td>-0.008320</td>\n",
              "      <td>-0.010500</td>\n",
              "      <td>-0.079984</td>\n",
              "      <td>1.000000</td>\n",
              "      <td>-0.045205</td>\n",
              "      <td>0.992796</td>\n",
              "      <td>-0.011962</td>\n",
              "    </tr>\n",
              "    <tr>\n",
              "      <th>numberrealestateloansorlines</th>\n",
              "      <td>0.006235</td>\n",
              "      <td>0.033150</td>\n",
              "      <td>-0.030565</td>\n",
              "      <td>0.120046</td>\n",
              "      <td>0.116273</td>\n",
              "      <td>0.433959</td>\n",
              "      <td>-0.045205</td>\n",
              "      <td>1.000000</td>\n",
              "      <td>-0.039722</td>\n",
              "      <td>0.129399</td>\n",
              "    </tr>\n",
              "    <tr>\n",
              "      <th>numberoftime6089dayspastduenotworse</th>\n",
              "      <td>-0.001048</td>\n",
              "      <td>-0.057159</td>\n",
              "      <td>0.987005</td>\n",
              "      <td>-0.007533</td>\n",
              "      <td>-0.009252</td>\n",
              "      <td>-0.071077</td>\n",
              "      <td>0.992796</td>\n",
              "      <td>-0.039722</td>\n",
              "      <td>1.000000</td>\n",
              "      <td>-0.012678</td>\n",
              "    </tr>\n",
              "    <tr>\n",
              "      <th>numberofdependents</th>\n",
              "      <td>0.001193</td>\n",
              "      <td>-0.215693</td>\n",
              "      <td>-0.004590</td>\n",
              "      <td>-0.044476</td>\n",
              "      <td>0.066314</td>\n",
              "      <td>0.074026</td>\n",
              "      <td>-0.011962</td>\n",
              "      <td>0.129399</td>\n",
              "      <td>-0.012678</td>\n",
              "      <td>1.000000</td>\n",
              "    </tr>\n",
              "  </tbody>\n",
              "</table>\n",
              "</div>"
            ]
          },
          "metadata": {
            "tags": []
          },
          "execution_count": 42
        }
      ]
    },
    {
      "cell_type": "code",
      "metadata": {
        "id": "69APqxH-pD63",
        "colab_type": "code",
        "colab": {
          "base_uri": "https://localhost:8080/",
          "height": 493
        },
        "outputId": "fb732c58-0ad7-4829-d011-f8d229da9080"
      },
      "source": [
        "sns.set()\n",
        "sns.heatmap(training_data[training_data.columns[1:]].corr(),annot=True,fmt=\".1f\",\n",
        "            cmap=(sns.cubehelix_palette(8, start=.5, rot=-.75)))\n",
        "plt.show()"
      ],
      "execution_count": 43,
      "outputs": [
        {
          "output_type": "display_data",
          "data": {
            "image/png": "[encoded data removed]",
            "text/plain": [
              "<Figure size 432x288 with 2 Axes>"
            ]
          },
          "metadata": {
            "tags": []
          }
        }
      ]
    },
    {
      "cell_type": "markdown",
      "metadata": {
        "id": "TGesBm98pD66",
        "colab_type": "text"
      },
      "source": [
        "### Outliers Detection"
      ]
    },
    {
      "cell_type": "code",
      "metadata": {
        "id": "lr2jM3AMpD66",
        "colab_type": "code",
        "colab": {}
      },
      "source": [
        "# Percentile based outlier detection\n",
        "def percentile_based_outlier(data, threshold=95):\n",
        "    diff = (100 - threshold) / 2.0\n",
        "    (minval, maxval) = np.percentile(data, [diff, 100 - diff])\n",
        "    return ((data < minval) | (data > maxval))\n",
        "\n",
        "# Another percentile based outlier detection method which is based on inter quertile(IQR) range\n",
        "# import numpy as np\n",
        "# def outliers_iqr(ys):\n",
        "#     quartile_1, quartile_3 = np.percentile(ys, [25, 75])\n",
        "#     iqr = quartile_3 - quartile_1\n",
        "#     lower_bound = quartile_1 - (iqr * 1.5)\n",
        "#     upper_bound = quartile_3 + (iqr * 1.5)\n",
        "#     return np.where((ys > upper_bound) | (ys < lower_bound))"
      ],
      "execution_count": 44,
      "outputs": []
    },
    {
      "cell_type": "code",
      "metadata": {
        "id": "8bPRC8qppD68",
        "colab_type": "code",
        "colab": {}
      },
      "source": [
        ""
      ],
      "execution_count": 47,
      "outputs": []
    },
    {
      "cell_type": "code",
      "metadata": {
        "id": "VLHU6TlLpD6-",
        "colab_type": "code",
        "colab": {}
      },
      "source": [
        ""
      ],
      "execution_count": null,
      "outputs": []
    }
  ]
}